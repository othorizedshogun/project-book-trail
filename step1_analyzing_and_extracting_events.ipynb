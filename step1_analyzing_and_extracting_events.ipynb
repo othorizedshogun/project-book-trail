{
 "cells": [
  {
   "cell_type": "markdown",
   "metadata": {},
   "source": [
    "# setup notebook"
   ]
  },
  {
   "cell_type": "code",
   "execution_count": 1,
   "metadata": {},
   "outputs": [
    {
     "name": "stdout",
     "output_type": "stream",
     "text": [
      "OpenAI API key configured\n"
     ]
    }
   ],
   "source": [
    "import os\n",
    "from getpass import getpass\n",
    "import openai\n",
    "\n",
    "from dotenv import load_dotenv\n",
    "\n",
    "load_dotenv()\n",
    "\n",
    "if os.getenv(\"OPENAI_API_KEY\") is None:\n",
    "  if any(['VSCODE' in x for x in os.environ.keys()]):\n",
    "    print('Please enter password in the VS Code prompt at the top of your VS Code window!')\n",
    "  os.environ[\"OPENAI_API_KEY\"] = getpass(\"Paste your OpenAI key from: https://platform.openai.com/account/api-keys\\n\")\n",
    "  openai.api_key = os.getenv(\"OPENAI_API_KEY\", \"\")\n",
    "\n",
    "assert os.getenv(\"OPENAI_API_KEY\", \"\").startswith(\"sk-\"), \"This doesn't look like a valid OpenAI API key\"\n",
    "print(\"OpenAI API key configured\")"
   ]
  },
  {
   "cell_type": "markdown",
   "metadata": {},
   "source": [
    "# load data into memory"
   ]
  },
  {
   "cell_type": "code",
   "execution_count": 2,
   "metadata": {},
   "outputs": [],
   "source": [
    "# llamaindex document type is used here because it allows us to file metadata.\n",
    "from llama_index import SimpleDirectoryReader\n",
    "novel = SimpleDirectoryReader(\"data/jd_salinger/pdf\").load_data()"
   ]
  },
  {
   "cell_type": "code",
   "execution_count": 3,
   "metadata": {},
   "outputs": [
    {
     "data": {
      "text/plain": [
       "4086"
      ]
     },
     "execution_count": 3,
     "metadata": {},
     "output_type": "execute_result"
    }
   ],
   "source": [
    "# what is the max_legth of a single page in novel?\n",
    "max_length = 0\n",
    "for page in novel:\n",
    "    max_length = max(max_length, len(page.text))\n",
    "    \n",
    "max_length"
   ]
  },
  {
   "cell_type": "code",
   "execution_count": 4,
   "metadata": {},
   "outputs": [
    {
     "data": {
      "text/plain": [
       "2864"
      ]
     },
     "execution_count": 4,
     "metadata": {},
     "output_type": "execute_result"
    }
   ],
   "source": [
    "len(novel[0].text)"
   ]
  },
  {
   "cell_type": "code",
   "execution_count": 5,
   "metadata": {},
   "outputs": [
    {
     "name": "stdout",
     "output_type": "stream",
     "text": [
      "THE CATCHER IN THE RYE \n",
      "by J.D. Salinger \n",
      " \n",
      " \n",
      " \n",
      "  T O  \n",
      "  M Y  \n",
      "  MOTHER \n",
      " \n",
      "  \n",
      " \n",
      "1 \n",
      " \n",
      " If you really want to hear about it, the first thing you'll probably want to know is \n",
      "where I was born, an what my lousy childhood was like, and how my parents were \n",
      "occupied and all before they had me, and all that David Copperfield kind of crap, but I \n",
      "don't feel like going into it, if you want to know the truth. In the first place, that stuff \n",
      "bores me, and in the second place, my parents would have about two hemorrhages apiece \n",
      "if I told anything pretty personal about them. They're quite touchy about anything like that, especially my father. They're nice and all--I'm not saying that--but they're also \n",
      "touchy as hell. Besides, I'm not going to tell you my whole goddam autobiography or \n",
      "anything. I'll just tell you about this madman stuff that happened to me around last \n",
      "Christmas just before I got pretty run-down and had to come out here and take it easy. I \n",
      "mean that's all I told D.B. about, and he's my brother and all. He's in Hollywood. That isn't too far from this crumby place, and he comes over and visits me practically every \n",
      "week end. He's going to drive me home when I go home next month maybe. He just got a \n",
      "Jaguar. One of those little English jobs that can do around two hundred miles an hour. It \n",
      "cost him damn near four thousand bucks. He's got a lot of dough, now. He didn't use to. \n",
      "He used to be just a regular writer, when he was home. He wrote this terrific book of \n",
      "short stories, The Secret Goldfish, in case you never heard of him. The best one in it was \n",
      "\"The Secret Goldfish.\" It was about this  little kid that wouldn't let anybody look at his \n",
      "goldfish because he'd bought it with his own money. It killed me. Now he's out in \n",
      "Hollywood, D.B., being a prostitute. If there's one thing I hate, it's the movies. Don't even \n",
      "mention them to me. \n",
      " Where I want to start telling is the day I left Pencey Prep. Pencey Prep is this \n",
      "school that's in Agerstown, Pennsylvania. You probably heard of it. You've probably seen \n",
      "the ads, anyway. They advertise in about a thousand magazines, always showing some hotshot guy on a horse jumping over a fence. Like as if all you ever did at Pencey was \n",
      "play polo all the time. I never even once saw a horse anywhere near the place. And \n",
      "underneath the guy on the horse's picture, it always says: \"Since 1888 we have been molding boys into splendid, clear-thinking young men.\" Strictly for the birds. They don't \n",
      "do any damn more molding at Pencey than they do at any other school. And I didn't know \n",
      "anybody there that was splendid and clear-thinking and all. Maybe two guys. If that \n",
      "many. And they probably came to Pencey that way. \n",
      " Anyway, it was the Saturday of the football game with Saxon Hall. The game \n",
      "with Saxon Hall was supposed to be a very big deal around Pencey. It was the last game \n"
     ]
    }
   ],
   "source": [
    "print(novel[0].text)"
   ]
  },
  {
   "cell_type": "code",
   "execution_count": 6,
   "metadata": {},
   "outputs": [],
   "source": [
    "# algorithm for loading data requests.\n",
    "class Chunk:\n",
    "    # receives a list of pages to chunk together.\n",
    "    def __init__(self, pages: list):\n",
    "        self.pages = pages\n",
    "    def load_chunk(self):\n",
    "        pages = self.pages\n",
    "        chunk = \"\"\n",
    "        for page in pages:\n",
    "            chunk += \"\\n\\n{\\npage: \" + f\"{page.metadata[\"page_label\"]}\" + \", \\ncontent: '\" + f\"{page.text}\" + \"}\"\n",
    "        return chunk\n",
    "    def return_chunk(self):\n",
    "        return self.load_chunk()"
   ]
  },
  {
   "cell_type": "code",
   "execution_count": 7,
   "metadata": {},
   "outputs": [],
   "source": [
    "pages = [novel[0], novel[1], novel[2], novel[3]]\n",
    "chunk = Chunk(pages)"
   ]
  },
  {
   "cell_type": "markdown",
   "metadata": {},
   "source": [
    "# defining entity models"
   ]
  },
  {
   "cell_type": "code",
   "execution_count": 8,
   "metadata": {},
   "outputs": [],
   "source": [
    "import instructor\n",
    "\n",
    "from openai import OpenAI\n",
    "\n",
    "client = instructor.patch(OpenAI())"
   ]
  },
  {
   "cell_type": "code",
   "execution_count": 9,
   "metadata": {},
   "outputs": [],
   "source": [
    "from pydantic import BaseModel, Field, AfterValidator, WithJsonSchema\n",
    "from typing import List, Iterable\n",
    "from typing_extensions import Literal, Annotated\n",
    "\n",
    "from instructor import llm_validator\n",
    "\n",
    "import instructor\n",
    "\n",
    "from openai import OpenAI\n",
    "from pydantic import BaseModel, Field, AfterValidator\n",
    "from typing_extensions import Literal, Annotated\n",
    "from typing import List, Iterable\n",
    "from instructor import llm_validator\n",
    "\n",
    "client = instructor.patch(OpenAI())"
   ]
  },
  {
   "cell_type": "markdown",
   "metadata": {},
   "source": [
    "# Analyzer"
   ]
  },
  {
   "cell_type": "code",
   "execution_count": 10,
   "metadata": {},
   "outputs": [],
   "source": [
    "class Analysis(BaseModel):\n",
    "    chain_of_thought: str\n",
    "    analysis: str\n",
    "    events: List[str]\n",
    "    characters: List[str]\n",
    "    locations: List[str]"
   ]
  },
  {
   "cell_type": "code",
   "execution_count": 11,
   "metadata": {},
   "outputs": [],
   "source": [
    "def generate_analysis(system_message, user_prompt):\n",
    "    return client.chat.completions.create(\n",
    "        model=\"gpt-4-turbo-preview\",\n",
    "        temperature=0.6,\n",
    "        response_model=Analysis,\n",
    "        messages=[\n",
    "            {\n",
    "                \"role\": \"system\",\n",
    "                \"content\": system_message\n",
    "            },\n",
    "            {\n",
    "                \"role\": \"user\",\n",
    "                \"content\": (\n",
    "                    f\"{chunk.return_chunk()}\\n\\n\" + user_prompt\n",
    "                )\n",
    "            }\n",
    "        ]\n",
    "    )"
   ]
  },
  {
   "cell_type": "code",
   "execution_count": 12,
   "metadata": {},
   "outputs": [],
   "source": [
    "analysis_system_messsage = \"\"\"# MISSION\n",
    "You are a fiction analysing function. You will be given an arbituary number of pages or chunks of a novel. You are to create a higly distinct list of notes highlighting events, characters, locations and their intersection/interactions. You should endeavour to write everything in comlete, informative, and comprehensive setences and paragraphs such that little to no outside context is needed to understand. You wiil closely inspect each paragraph of prose and dialogue, to identify events present. You are to take all the time you need to fully unpack and articulate.\n",
    "\n",
    "# RULES\n",
    "Identify the main character and their situation. Next, identify events and settings. Events should be ordered as presented.\n",
    "\n",
    "# EVENT TYPES\n",
    "The types of events present are Narrative Development, Character Interaction, Action Sequences, Plot Dynamics, Climax and Resolution, Humor and Tone, Conflict and Resolution, Character Development, and Contextual Flashback or Information.\n",
    "\n",
    "# PROCESS\n",
    "The first thing you should do is a Four-step process. \n",
    "\n",
    "First, you need to restate what the user is asking for in your own words. Use this first step to clarify and distill the overall flow. \n",
    "\n",
    "Second, you need to reflect on how you will execute the analysis in order to convey all necessary material completely and effectively. \n",
    "\n",
    "Third, you should brainstorm an outline for the analysis.\n",
    "\n",
    "Four, You should relate characters mentioned, however minor or even if just once, to at least one event.\n",
    "\n",
    "Finally, you should draft the analysis as specified.\"\"\"\n",
    "\n",
    "# # CHANCES OF DANGER TO LIFE\n",
    "# if you forget even a single character mentioned.\n",
    "# \"\"\"\n",
    "\n",
    "analysis_user_prompt = \"\"\"\"\"\"\n",
    "\n",
    "analysis = generate_analysis(analysis_system_messsage, analysis_user_prompt)"
   ]
  },
  {
   "cell_type": "code",
   "execution_count": 13,
   "metadata": {},
   "outputs": [
    {
     "name": "stdout",
     "output_type": "stream",
     "text": [
      "chain_of_thought=\"First, I need to restate the task: I am to analyze the given text from 'The Catcher in the Rye' by J.D. Salinger, focusing on identifying and listing events, characters, locations, and their interactions within the text. Second, my approach will involve closely reading the text, paragraph by paragraph, to extract relevant information, ensuring a comprehensive understanding of the narrative's elements. Third, my outline will include an introduction to the main character and setting, followed by a detailed breakdown of events, character interactions, and notable locations. I will ensure each character mentioned is tied to at least one event. Fourth, the analysis will be drafted as specified, aiming for clarity and completeness in conveying the narrative's components.\" analysis=\"In the opening section of 'The Catcher in the Rye' by J.D. Salinger, the narrator, Holden Caulfield, introduces himself in a rather unconventional manner, eschewing the typical autobiographical details for a more personal recounting of recent events. The narrative begins with Holden's disdain for sharing personal family history and quickly moves to his experiences around the previous Christmas, hinting at a significant period of turmoil leading to his current situation of recuperation. Holden mentions his brother D.B., who has moved to Hollywood and become financially successful, a fact that Holden views with a mix of admiration and disdain, particularly criticizing D.B.'s involvement in the film industry, which Holden loathes. The story then shifts to Holden's immediate past at Pencey Prep, a school in Agerstown, Pennsylvania, from which he has been expelled. This expulsion is not directly stated until later, with initial hints provided through Holden's reflections on the school and its culture. On the day he decides to leave Pencey Prep, following a canceled fencing meet in New York due to Holden's mistake, he opts to visit Mr. Spencer, his history teacher, to say goodbye. This visit is prompted by a note from Mr. Spencer, acknowledging Holden's impending departure. The narrative provides insights into Holden's complex feelings about leaving places and his attempts to find closure. As he makes his way to Mr. Spencer's home, the text also reveals Holden's health concerns and his physical state in the cold December weather. Upon arriving at Mr. Spencer's, Holden's interactions with both Mr. and Mrs. Spencer are detailed, highlighting the Spencers' age, their modest living conditions, and Mr. Spencer's ill health. The conversation between Holden and Mr. Spencer begins with casual greetings but quickly turns to the topic of Holden's expulsion, setting the stage for a more serious discussion.\" events=['Holden Caulfield introduces himself and expresses his disdain for sharing personal history.', \"Holden mentions his brother D.B.'s success in Hollywood and his own contempt for the movie industry.\", \"The narrative shifts to Holden's past at Pencey Prep, including his recent expulsion.\", 'Holden reflects on the culture and environment of Pencey Prep.', 'Holden decides to visit Mr. Spencer, his history teacher, to say goodbye after being expelled.', 'Holden recounts the mistake that led to the cancellation of a fencing meet in New York.', \"Holden describes his journey to Mr. Spencer's house, including his physical discomfort in the cold.\", \"Holden's interactions with Mr. and Mrs. Spencer at their home are detailed.\", \"The conversation with Mr. Spencer turns to the topic of Holden's expulsion.\"] characters=['Holden Caulfield', 'D.B. Caulfield', 'Mr. Spencer', 'Mrs. Spencer', 'Selma Thurmer', 'Robert Tichener', 'Paul Campbell', 'Mr. Zambesi'] locations=[\"Holden's current location of recuperation\", 'Hollywood', 'Pencey Prep in Agerstown, Pennsylvania', 'Thomsen Hill at Pencey Prep', 'New York', \"Mr. Spencer's house on Anthony Wayne Avenue\"]\n"
     ]
    }
   ],
   "source": [
    "print(analysis)"
   ]
  },
  {
   "cell_type": "code",
   "execution_count": 14,
   "metadata": {},
   "outputs": [
    {
     "name": "stdout",
     "output_type": "stream",
     "text": [
      "Events:\n",
      "Holden Caulfield introduces himself and expresses his disdain for sharing personal history.\n",
      "Holden mentions his brother D.B.'s success in Hollywood and his own contempt for the movie industry.\n",
      "The narrative shifts to Holden's past at Pencey Prep, including his recent expulsion.\n",
      "Holden reflects on the culture and environment of Pencey Prep.\n",
      "Holden decides to visit Mr. Spencer, his history teacher, to say goodbye after being expelled.\n",
      "Holden recounts the mistake that led to the cancellation of a fencing meet in New York.\n",
      "Holden describes his journey to Mr. Spencer's house, including his physical discomfort in the cold.\n",
      "Holden's interactions with Mr. and Mrs. Spencer at their home are detailed.\n",
      "The conversation with Mr. Spencer turns to the topic of Holden's expulsion.\n",
      "['Holden Caulfield', 'D.B. Caulfield', 'Mr. Spencer', 'Mrs. Spencer', 'Selma Thurmer', 'Robert Tichener', 'Paul Campbell', 'Mr. Zambesi']\n"
     ]
    }
   ],
   "source": [
    "print(\"Events:\")\n",
    "for event in analysis.events:\n",
    "    print(event)\n",
    "\n",
    "print(analysis.characters)"
   ]
  },
  {
   "cell_type": "markdown",
   "metadata": {},
   "source": [
    "# event extraction"
   ]
  },
  {
   "cell_type": "code",
   "execution_count": 15,
   "metadata": {},
   "outputs": [],
   "source": [
    "class Character(BaseModel):\n",
    "    id: int = Field(\n",
    "        ...,\n",
    "        description=\"Unique identifier for the event, used for deduplication, design a scheme that allows for multiple events\"\n",
    "    )\n",
    "    name: str = Field(\n",
    "        ...,\n",
    "        description=\"For sake of precision and deduplication, should be the actual name of the character, if not provided, should be 'Not Available'\"\n",
    "    )\n",
    "    gender: Literal[\"Male\", \"Female\", \"N/A\"]\n",
    "    aliases: List[str]\n",
    "\n",
    "\n",
    "class Event(BaseModel):\n",
    "    id: int\n",
    "    name: str\n",
    "    # page: int = Field(\n",
    "    #     ...,\n",
    "    #     description=\"The page the event began\"\n",
    "    # )\n",
    "    eventType: Literal[\"Narrative Development\", \"Character Interaction\", \"Action Sequences\", \"Plot Dynamics\", \"Climax and Resolution\", \"Humor and Tone\", \"Conflict and Resolution\", \"Character Development\", \"Contextual Flashback or Information\"]\n",
    "    summary: str\n",
    "    characters: List[Character] = Field(\n",
    "        ...,\n",
    "        description=\"List of characters possessing a remote connection or participation to the event.\"\n",
    "    )\n",
    "    locations: List[str]"
   ]
  },
  {
   "cell_type": "code",
   "execution_count": 25,
   "metadata": {},
   "outputs": [],
   "source": [
    "def extract_events(analysis: Analysis, system_message, user_prompt):\n",
    "    events = [event for event in analysis.events]\n",
    "    characters = [character for character in analysis.characters]\n",
    "    locations = [location for location in analysis.locations]\n",
    "\n",
    "    analysis_insert = \"\"\"chain_of_thought: {chain_of_thought}\n",
    "    Analysis: {analysis}\n",
    "    Events: {events}\n",
    "    characters: {characters}\n",
    "    Locations: {locations}\"\"\".format(chain_of_thought=analysis.chain_of_thought, analysis=analysis.analysis, events=events, characters=characters, locations=locations)\n",
    "\n",
    "    return client.chat.completions.create(\n",
    "        model=\"gpt-4-turbo-preview\",\n",
    "        temperature=0.6,\n",
    "        # stream=True,\n",
    "        max_retries=2,\n",
    "        response_model=Iterable[Event],\n",
    "        messages=[\n",
    "            {\n",
    "                \"role\": \"system\",\n",
    "                \"content\": system_message\n",
    "            },\n",
    "            {\n",
    "                \"role\": \"user\",\n",
    "                \"content\":(\n",
    "                    f\"Excerpt:\\n{chunk.return_chunk()}\\n\\n\" + analysis_insert + user_prompt\n",
    "                ),\n",
    "            },\n",
    "\n",
    "        ],\n",
    "    )"
   ]
  },
  {
   "cell_type": "code",
   "execution_count": 26,
   "metadata": {},
   "outputs": [
    {
     "name": "stdout",
     "output_type": "stream",
     "text": [
      "id=1 name='Holden Caulfield introduces himself' eventType='Narrative Development' summary='Holden Caulfield introduces himself and expresses his disdain for sharing personal history, focusing instead on recent events.' characters=[Character(id=1, name='Holden Caulfield', gender='Male', aliases=['Holden'])] locations=[\"Holden's current location of recuperation\"]\n",
      "id=2 name=\"D.B.'s Success in Hollywood\" eventType='Character Development' summary=\"Holden mentions his brother D.B.'s success in Hollywood and his own contempt for the movie industry.\" characters=[Character(id=1, name='Holden Caulfield', gender='Male', aliases=['Holden']), Character(id=2, name='D.B. Caulfield', gender='Male', aliases=['D.B.'])] locations=['Hollywood']\n",
      "id=3 name='Expulsion from Pencey Prep' eventType='Plot Dynamics' summary=\"The narrative shifts to Holden's past at Pencey Prep, including his recent expulsion.\" characters=[Character(id=1, name='Holden Caulfield', gender='Male', aliases=['Holden'])] locations=['Pencey Prep in Agerstown, Pennsylvania']\n",
      "id=4 name='Reflections on Pencey Prep' eventType='Character Development' summary='Holden reflects on the culture and environment of Pencey Prep.' characters=[Character(id=1, name='Holden Caulfield', gender='Male', aliases=['Holden'])] locations=['Pencey Prep in Agerstown, Pennsylvania']\n",
      "id=5 name='Visiting Mr. Spencer' eventType='Narrative Development' summary='Holden decides to visit Mr. Spencer, his history teacher, to say goodbye after being expelled.' characters=[Character(id=1, name='Holden Caulfield', gender='Male', aliases=['Holden']), Character(id=3, name='Mr. Spencer', gender='Male', aliases=['Spencer'])] locations=['Pencey Prep in Agerstown, Pennsylvania', \"Mr. Spencer's house on Anthony Wayne Avenue\"]\n",
      "id=6 name='Fencing Meet Mishap' eventType='Character Development' summary='Holden recounts the mistake that led to the cancellation of a fencing meet in New York.' characters=[Character(id=1, name='Holden Caulfield', gender='Male', aliases=['Holden'])] locations=['New York']\n",
      "id=7 name=\"Journey to Mr. Spencer's House\" eventType='Narrative Development' summary=\"Holden describes his journey to Mr. Spencer's house, including his physical discomfort in the cold.\" characters=[Character(id=1, name='Holden Caulfield', gender='Male', aliases=['Holden'])] locations=[\"Mr. Spencer's house on Anthony Wayne Avenue\"]\n",
      "id=8 name='Interactions with the Spencers' eventType='Character Interaction' summary=\"Holden's interactions with Mr. and Mrs. Spencer at their home are detailed.\" characters=[Character(id=1, name='Holden Caulfield', gender='Male', aliases=['Holden']), Character(id=3, name='Mr. Spencer', gender='Male', aliases=['Spencer']), Character(id=4, name='Mrs. Spencer', gender='Female', aliases=['Mrs. Spencer'])] locations=[\"Mr. Spencer's house on Anthony Wayne Avenue\"]\n",
      "id=9 name='Discussion of Expulsion' eventType='Conflict and Resolution' summary=\"The conversation with Mr. Spencer turns to the topic of Holden's expulsion.\" characters=[Character(id=1, name='Holden Caulfield', gender='Male', aliases=['Holden']), Character(id=3, name='Mr. Spencer', gender='Male', aliases=['Spencer'])] locations=[\"Mr. Spencer's house on Anthony Wayne Avenue\"]\n"
     ]
    }
   ],
   "source": [
    "event_extraction_system_message = \"\"\"# MISSION\n",
    "You are an event extractor. You will be given an arbituary number of pages or chunks of a novel along with an analysis, and lists of events, characters, and locations. You are to map these items together to build a structured narrative around the events.\n",
    "\n",
    "# RULES\n",
    "Maintain the order of events as presented. Assign every character to an event\"\"\"\n",
    "\n",
    "event_extraction_user_prompt = \"\"\"\"\"\"\n",
    "\n",
    "events = extract_events(analysis, event_extraction_system_message, event_extraction_user_prompt)\n",
    "for event in events:\n",
    "    print(event)"
   ]
  },
  {
   "cell_type": "code",
   "execution_count": null,
   "metadata": {},
   "outputs": [],
   "source": []
  }
 ],
 "metadata": {
  "kernelspec": {
   "display_name": "book_trail",
   "language": "python",
   "name": "python3"
  },
  "language_info": {
   "codemirror_mode": {
    "name": "ipython",
    "version": 3
   },
   "file_extension": ".py",
   "mimetype": "text/x-python",
   "name": "python",
   "nbconvert_exporter": "python",
   "pygments_lexer": "ipython3",
   "version": "3.12.1"
  }
 },
 "nbformat": 4,
 "nbformat_minor": 2
}
