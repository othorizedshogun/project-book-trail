{
 "cells": [
  {
   "cell_type": "markdown",
   "metadata": {},
   "source": [
    "# setup notebook"
   ]
  },
  {
   "cell_type": "code",
   "execution_count": 1,
   "metadata": {},
   "outputs": [
    {
     "name": "stdout",
     "output_type": "stream",
     "text": [
      "OpenAI API key configured\n"
     ]
    }
   ],
   "source": [
    "import os\n",
    "from getpass import getpass\n",
    "import openai\n",
    "\n",
    "from dotenv import load_dotenv\n",
    "\n",
    "load_dotenv()\n",
    "\n",
    "if os.getenv(\"OPENAI_API_KEY\") is None:\n",
    "  if any(['VSCODE' in x for x in os.environ.keys()]):\n",
    "    print('Please enter password in the VS Code prompt at the top of your VS Code window!')\n",
    "  os.environ[\"OPENAI_API_KEY\"] = getpass(\"Paste your OpenAI key from: https://platform.openai.com/account/api-keys\\n\")\n",
    "  openai.api_key = os.getenv(\"OPENAI_API_KEY\", \"\")\n",
    "\n",
    "assert os.getenv(\"OPENAI_API_KEY\", \"\").startswith(\"sk-\"), \"This doesn't look like a valid OpenAI API key\"\n",
    "print(\"OpenAI API key configured\")"
   ]
  },
  {
   "cell_type": "markdown",
   "metadata": {},
   "source": [
    "# load book into memory"
   ]
  },
  {
   "cell_type": "code",
   "execution_count": 2,
   "metadata": {},
   "outputs": [],
   "source": [
    "# llamaindex document type is used here because it allows us to file metadata.\n",
    "from llama_index import SimpleDirectoryReader\n",
    "# novel = SimpleDirectoryReader(\"data/jd_salinger/pdf\").load_data()\n",
    "novel = SimpleDirectoryReader(\"data/anne_tyler/pdf\").load_data()"
   ]
  },
  {
   "cell_type": "markdown",
   "metadata": {},
   "source": [
    "# data models"
   ]
  },
  {
   "cell_type": "code",
   "execution_count": 3,
   "metadata": {},
   "outputs": [],
   "source": [
    "from pydantic import BaseModel, Field\n",
    "from typing import List, Optional\n",
    "from typing_extensions import Literal\n",
    "from collections import defaultdict\n",
    "\n",
    "\n",
    "class Character(BaseModel):\n",
    "    id: int = Field(\n",
    "        ...,\n",
    "        description=\"Unique identifier for the event, used for deduplication, design a scheme that allows for multiple events\"\n",
    "    )\n",
    "    name: str = Field(\n",
    "        ...,\n",
    "        description=\"For sake of precision and deduplication, should be the actual name of the characters, if not provided, should be 'Not Available'\"\n",
    "    )\n",
    "    gender: Literal[\"Male\", \"Female\", \"N/A\"]\n",
    "    aliases: List[str] = Field(\n",
    "        ...,\n",
    "        description=\"Names, TItles, Promouns usd in refernce to or that describe the character\"\n",
    "    )\n",
    "\n",
    "class Location(BaseModel):\n",
    "    id: int = Field(\n",
    "        ...,\n",
    "        description=\"Unique identifier for the event, used for deduplication, design a scheme that allows for multiple events\"\n",
    "    )\n",
    "    name: str\n",
    "\n",
    "class Event(BaseModel):\n",
    "    id: int\n",
    "    name: str\n",
    "    startPage: int = Field(\n",
    "        ...,\n",
    "        description=\"The page the event begins\"\n",
    "    )\n",
    "    endPage: int = Field(\n",
    "        ...,\n",
    "        description=\"The page where the event ends\"\n",
    "    )\n",
    "    eventType: Literal[\"Narrative Development\", \"Character Interaction\", \"Action Sequences\", \"Plot Dynamics\", \"Climax and Resolution\", \"Humor and Tone\", \"Conflict and Resolution\", \"Character Development\", \"Contextual Flashback or Information\"]\n",
    "    summary: str\n",
    "    characters: List[int] = Field(\n",
    "        ...,\n",
    "        description=\"List of the character IDs of characters participating in or with a connection to the event\"\n",
    "    )\n",
    "    locations: List[int] = Field(\n",
    "        ...,\n",
    "        description=\"List of the location IDs of locations in relation to an event\"\n",
    "    )\n",
    "\n",
    "class EventRepository(BaseModel):\n",
    "    events: Optional[List[Event]] = Field(..., default_factory=list)\n",
    "    allCharactersInBook: List[Character] = Field(\n",
    "        ...,\n",
    "        default_factory=list,\n",
    "        description=\"Updated list of characters in the book\"\n",
    "    )\n",
    "    allLocationsInBook: List[Location] = Field(\n",
    "        ...,\n",
    "        default_factory=list,\n",
    "        description=\"Updated list of locations in the book\"\n",
    "    )\n",
    "\n",
    "    def update(self, other: \"EventRepository\") -> \"EventRepository\":\n",
    "        \"\"\"Updates the current repository with the other repository, deduplicating events and unassigned characters.\"\"\"\n",
    "        return EventRepository(\n",
    "            events=update_and_deduplicate_items(self.events, other.events),\n",
    "            allCharactersInBook=update_and_deduplicate_items(self.allCharactersInBook, other.allCharactersInBook),\n",
    "            allLocationsInBook=update_and_deduplicate_items(self.allLocationsInBook, other.allLocationsInBook)\n",
    "        )\n",
    "    \n",
    "    def get_events_by_character(self) -> dict[int, List[Event]]:\n",
    "        \"\"\"Returns a dictionary mapping character IDs to a list of events they are associated with.\"\"\"\n",
    "        character_events_mapping = defaultdict(list)\n",
    "\n",
    "        # Iterate through events and update the mapping\n",
    "        for event in self.events:\n",
    "            for character_id in event.characters:\n",
    "                character_events_mapping[character_id].append(event)\n",
    "\n",
    "        return dict(character_events_mapping)\n",
    "\n",
    "\n",
    "def update_and_deduplicate_items(existing_list: List[Event]|List[Character]|List[Location], new_list: List[Event]|List[Character]|List[Location]) -> List[Event]|List[Character]|List[Location]:\n",
    "    updated_list = existing_list.copy()\n",
    "\n",
    "    # Update existing items with new information\n",
    "    for new_item in new_list:\n",
    "        existing_item_index = next((i for i, item in enumerate(updated_list) if item.id == new_item.id), None)\n",
    "\n",
    "        if existing_item_index is not None:\n",
    "            # If the item with the same id already exists, update the information\n",
    "            if type(new_item) == Character:\n",
    "                updated_list[existing_item_index].gender = new_item.gender\n",
    "                updated_list[existing_item_index].aliases = list(set(updated_list[existing_item_index].aliases + new_item.aliases))\n",
    "            else:\n",
    "                updated_list[existing_item_index] = new_item\n",
    "        else:\n",
    "            # If the item with the same id does not exist, add the new character\n",
    "            updated_list.append(new_item)\n",
    "\n",
    "    # Deduplicate based on id\n",
    "    updated_list = list({item.id: item for item in updated_list}.values())\n",
    "\n",
    "    return updated_list"
   ]
  },
  {
   "cell_type": "code",
   "execution_count": 4,
   "metadata": {},
   "outputs": [
    {
     "name": "stdout",
     "output_type": "stream",
     "text": [
      "[Event(id=1, name='Reflection on Trustworthiness', startPage=7, endPage=7, eventType='Character Development', summary='The protagonist reflects on his perceived trustworthiness by his customers, considering the responsibilities and trust they place in him through various tasks.', characters=[1], locations=[1]), Event(id=2, name='Waiting at Baltimore Railroad Station', startPage=7, endPage=7, eventType='Narrative Development', summary='The protagonist waits at the Baltimore railroad station, intending to travel to Philadelphia to see his daughter.', characters=[1], locations=[1]), Event(id=3, name='Seeking Help for Passport Transport', startPage=8, endPage=9, eventType='Character Interaction', summary='A well-off man frantically seeks help at the train station to transport a passport to Philadelphia for his daughter.', characters=[2], locations=[1]), Event(id=4, name='Skeptical Observation', startPage=9, endPage=9, eventType='Character Development', summary=\"The protagonist expresses skepticism about the well-off man's story and motives.\", characters=[1, 2, 3], locations=[1]), Event(id=5, name='Sophia Agrees to Carry Packet', startPage=10, endPage=10, eventType='Character Interaction', summary='Sophia agrees to carry a packet for a man to his daughter, Esther Brimm, in Philadelphia. The man gives her instructions on how to find Esther at the information desk.', characters=[2, 7, 8], locations=[1]), Event(id=6, name=\"Narrator's Frustration and Reflection\", startPage=11, endPage=12, eventType='Character Development', summary='The narrator, unable to sit next to Sophia due to a crowded train, reflects on their past as a juvenile delinquent with a penchant for personal items and private mail. They plan to inquire about the packet once a seat beside Sophia becomes available.', characters=[1, 7], locations=[2]), Event(id=7, name='Journey from Wilmington to Philadelphia', startPage=13, endPage=13, eventType='Narrative Development', summary=\"The protagonist observes the industrial landscape while traveling from Wilmington to Philadelphia, reflecting on the music from a fellow passenger's headphones.\", characters=[1], locations=[3]), Event(id=8, name=\"Sophia's Preparation for Arrival\", startPage=13, endPage=13, eventType='Character Interaction', summary='Sophia prepares for arrival in Philadelphia too soon, standing in the aisle and facing the protagonist.', characters=[1, 7], locations=[3]), Event(id=9, name='Sophia Delivers Mailer to Esther', startPage=14, endPage=14, eventType='Character Interaction', summary='Sophia hands a mailer to Esther Brimm at Thirtieth Street Station, completing her task.', characters=[7, 8], locations=[2]), Event(id=10, name=\"Protagonist's Shifted Focus\", startPage=14, endPage=15, eventType='Character Development', summary=\"The protagonist shifts his attention from Sophia to Esther, intrigued by Esther's appearance and actions.\", characters=[1, 8], locations=[2]), Event(id=11, name='Reflecting on Personal Life', startPage=15, endPage=15, eventType='Character Development', summary='The protagonist reflects on his late arrival for a visit with his daughter, Opal, and his strained relationship with his ex-wife, Natalie.', characters=[1], locations=[2]), Event(id=12, name=\"Father's attempt to reconcile with Opal\", startPage=16, endPage=18, eventType='Character Interaction', summary=\"The father reflects on Natalie's demeanor, attempts to reconcile with Opal who feels stood up due to his lateness, tells a fabricated story to entertain her, and faces Opal's and Natalie's disappointment.\", characters=[1, 9, 10], locations=[2])]\n",
      "[Character(id=1, name='Protagonist', gender='Male', aliases=['narrator']), Character(id=2, name='Well-off Man', gender='Male', aliases=['gray-haired man']), Character(id=3, name='Woman in Feather Coat', gender='Female', aliases=['schoolmarm sort']), Character(id=4, name='Mrs. Rodney', gender='Female', aliases=['customer']), Character(id=5, name='Daughter', gender='Female', aliases=['little girl']), Character(id=6, name='Lawyer', gender='Male', aliases=['stepfather']), Character(id=7, name='Sophia', gender='Female', aliases=['Sophia Maiden']), Character(id=8, name='Esther Brimm', gender='Female', aliases=['daughter with red hair']), Character(id=9, name='Opal', gender='Female', aliases=['daughter']), Character(id=10, name='Natalie', gender='Female', aliases=['ex-wife'])]\n",
      "[Location(id=1, name='Baltimore Railroad Station'), Location(id=2, name='Philadelphia'), Location(id=3, name='Aboard the train'), Location(id=4, name='Thirtieth Street Station, Philadelphia')]\n"
     ]
    }
   ],
   "source": [
    "import json\n",
    "from pydantic import ValidationError\n",
    "\n",
    "# Read data from the file\n",
    "with open('response/response_20240217061813.txt', 'r') as file:\n",
    "    data = json.load(file)\n",
    "\n",
    "# Define functions to validate and parse the data\n",
    "def validate_and_parse(data):\n",
    "    try:\n",
    "        event_repository = EventRepository.model_validate(data)\n",
    "        return event_repository\n",
    "    except ValidationError as e:\n",
    "        print(f\"Validation error: {e}\")\n",
    "        return None\n",
    "\n",
    "# Validate and parse the data\n",
    "event_repository = validate_and_parse(data)\n",
    "\n",
    "if event_repository:\n",
    "    # Now you can work with the parsed data\n",
    "    print(event_repository.events)\n",
    "    print(event_repository.allCharactersInBook)\n",
    "    print(event_repository.allLocationsInBook)"
   ]
  },
  {
   "cell_type": "code",
   "execution_count": 5,
   "metadata": {},
   "outputs": [
    {
     "name": "stdout",
     "output_type": "stream",
     "text": [
      "id=1 name='Protagonist' gender='Male' aliases=['narrator']\n",
      "id=2 name='Well-off Man' gender='Male' aliases=['gray-haired man']\n",
      "id=3 name='Woman in Feather Coat' gender='Female' aliases=['schoolmarm sort']\n",
      "id=4 name='Mrs. Rodney' gender='Female' aliases=['customer']\n",
      "id=5 name='Daughter' gender='Female' aliases=['little girl']\n",
      "id=6 name='Lawyer' gender='Male' aliases=['stepfather']\n",
      "id=7 name='Sophia' gender='Female' aliases=['Sophia Maiden']\n",
      "id=8 name='Esther Brimm' gender='Female' aliases=['daughter with red hair']\n",
      "id=9 name='Opal' gender='Female' aliases=['daughter']\n",
      "id=10 name='Natalie' gender='Female' aliases=['ex-wife']\n"
     ]
    }
   ],
   "source": [
    "for character in event_repository.allCharactersInBook:\n",
    "    print(character)"
   ]
  },
  {
   "cell_type": "code",
   "execution_count": 6,
   "metadata": {},
   "outputs": [],
   "source": [
    "events_by_character = event_repository.get_events_by_character()"
   ]
  },
  {
   "cell_type": "code",
   "execution_count": 7,
   "metadata": {},
   "outputs": [],
   "source": [
    "assignedCharacters = [i for i in events_by_character.keys()] # ids of character who participated in narrative contributing events"
   ]
  },
  {
   "cell_type": "code",
   "execution_count": 8,
   "metadata": {},
   "outputs": [],
   "source": [
    "unassignedCharacters = [character.id for character in event_repository.allCharactersInBook if not character.id in assignedCharacters] # ids of characters in book who were not assigned to narrative contributing events"
   ]
  },
  {
   "cell_type": "code",
   "execution_count": 9,
   "metadata": {},
   "outputs": [
    {
     "name": "stdout",
     "output_type": "stream",
     "text": [
      "[1, 2, 3, 7, 8, 9, 10]\n",
      "[4, 5, 6]\n"
     ]
    }
   ],
   "source": [
    "print(assignedCharacters)\n",
    "print(unassignedCharacters)"
   ]
  },
  {
   "cell_type": "code",
   "execution_count": 10,
   "metadata": {},
   "outputs": [],
   "source": [
    "# class CharacterWithEvents(Character):"
   ]
  },
  {
   "cell_type": "code",
   "execution_count": 11,
   "metadata": {},
   "outputs": [
    {
     "data": {
      "text/plain": [
       "{1: [Event(id=1, name='Reflection on Trustworthiness', startPage=7, endPage=7, eventType='Character Development', summary='The protagonist reflects on his perceived trustworthiness by his customers, considering the responsibilities and trust they place in him through various tasks.', characters=[1], locations=[1]),\n",
       "  Event(id=2, name='Waiting at Baltimore Railroad Station', startPage=7, endPage=7, eventType='Narrative Development', summary='The protagonist waits at the Baltimore railroad station, intending to travel to Philadelphia to see his daughter.', characters=[1], locations=[1]),\n",
       "  Event(id=4, name='Skeptical Observation', startPage=9, endPage=9, eventType='Character Development', summary=\"The protagonist expresses skepticism about the well-off man's story and motives.\", characters=[1, 2, 3], locations=[1]),\n",
       "  Event(id=6, name=\"Narrator's Frustration and Reflection\", startPage=11, endPage=12, eventType='Character Development', summary='The narrator, unable to sit next to Sophia due to a crowded train, reflects on their past as a juvenile delinquent with a penchant for personal items and private mail. They plan to inquire about the packet once a seat beside Sophia becomes available.', characters=[1, 7], locations=[2]),\n",
       "  Event(id=7, name='Journey from Wilmington to Philadelphia', startPage=13, endPage=13, eventType='Narrative Development', summary=\"The protagonist observes the industrial landscape while traveling from Wilmington to Philadelphia, reflecting on the music from a fellow passenger's headphones.\", characters=[1], locations=[3]),\n",
       "  Event(id=8, name=\"Sophia's Preparation for Arrival\", startPage=13, endPage=13, eventType='Character Interaction', summary='Sophia prepares for arrival in Philadelphia too soon, standing in the aisle and facing the protagonist.', characters=[1, 7], locations=[3]),\n",
       "  Event(id=10, name=\"Protagonist's Shifted Focus\", startPage=14, endPage=15, eventType='Character Development', summary=\"The protagonist shifts his attention from Sophia to Esther, intrigued by Esther's appearance and actions.\", characters=[1, 8], locations=[2]),\n",
       "  Event(id=11, name='Reflecting on Personal Life', startPage=15, endPage=15, eventType='Character Development', summary='The protagonist reflects on his late arrival for a visit with his daughter, Opal, and his strained relationship with his ex-wife, Natalie.', characters=[1], locations=[2]),\n",
       "  Event(id=12, name=\"Father's attempt to reconcile with Opal\", startPage=16, endPage=18, eventType='Character Interaction', summary=\"The father reflects on Natalie's demeanor, attempts to reconcile with Opal who feels stood up due to his lateness, tells a fabricated story to entertain her, and faces Opal's and Natalie's disappointment.\", characters=[1, 9, 10], locations=[2])],\n",
       " 2: [Event(id=3, name='Seeking Help for Passport Transport', startPage=8, endPage=9, eventType='Character Interaction', summary='A well-off man frantically seeks help at the train station to transport a passport to Philadelphia for his daughter.', characters=[2], locations=[1]),\n",
       "  Event(id=4, name='Skeptical Observation', startPage=9, endPage=9, eventType='Character Development', summary=\"The protagonist expresses skepticism about the well-off man's story and motives.\", characters=[1, 2, 3], locations=[1]),\n",
       "  Event(id=5, name='Sophia Agrees to Carry Packet', startPage=10, endPage=10, eventType='Character Interaction', summary='Sophia agrees to carry a packet for a man to his daughter, Esther Brimm, in Philadelphia. The man gives her instructions on how to find Esther at the information desk.', characters=[2, 7, 8], locations=[1])],\n",
       " 3: [Event(id=4, name='Skeptical Observation', startPage=9, endPage=9, eventType='Character Development', summary=\"The protagonist expresses skepticism about the well-off man's story and motives.\", characters=[1, 2, 3], locations=[1])],\n",
       " 7: [Event(id=5, name='Sophia Agrees to Carry Packet', startPage=10, endPage=10, eventType='Character Interaction', summary='Sophia agrees to carry a packet for a man to his daughter, Esther Brimm, in Philadelphia. The man gives her instructions on how to find Esther at the information desk.', characters=[2, 7, 8], locations=[1]),\n",
       "  Event(id=6, name=\"Narrator's Frustration and Reflection\", startPage=11, endPage=12, eventType='Character Development', summary='The narrator, unable to sit next to Sophia due to a crowded train, reflects on their past as a juvenile delinquent with a penchant for personal items and private mail. They plan to inquire about the packet once a seat beside Sophia becomes available.', characters=[1, 7], locations=[2]),\n",
       "  Event(id=8, name=\"Sophia's Preparation for Arrival\", startPage=13, endPage=13, eventType='Character Interaction', summary='Sophia prepares for arrival in Philadelphia too soon, standing in the aisle and facing the protagonist.', characters=[1, 7], locations=[3]),\n",
       "  Event(id=9, name='Sophia Delivers Mailer to Esther', startPage=14, endPage=14, eventType='Character Interaction', summary='Sophia hands a mailer to Esther Brimm at Thirtieth Street Station, completing her task.', characters=[7, 8], locations=[2])],\n",
       " 8: [Event(id=5, name='Sophia Agrees to Carry Packet', startPage=10, endPage=10, eventType='Character Interaction', summary='Sophia agrees to carry a packet for a man to his daughter, Esther Brimm, in Philadelphia. The man gives her instructions on how to find Esther at the information desk.', characters=[2, 7, 8], locations=[1]),\n",
       "  Event(id=9, name='Sophia Delivers Mailer to Esther', startPage=14, endPage=14, eventType='Character Interaction', summary='Sophia hands a mailer to Esther Brimm at Thirtieth Street Station, completing her task.', characters=[7, 8], locations=[2]),\n",
       "  Event(id=10, name=\"Protagonist's Shifted Focus\", startPage=14, endPage=15, eventType='Character Development', summary=\"The protagonist shifts his attention from Sophia to Esther, intrigued by Esther's appearance and actions.\", characters=[1, 8], locations=[2])],\n",
       " 9: [Event(id=12, name=\"Father's attempt to reconcile with Opal\", startPage=16, endPage=18, eventType='Character Interaction', summary=\"The father reflects on Natalie's demeanor, attempts to reconcile with Opal who feels stood up due to his lateness, tells a fabricated story to entertain her, and faces Opal's and Natalie's disappointment.\", characters=[1, 9, 10], locations=[2])],\n",
       " 10: [Event(id=12, name=\"Father's attempt to reconcile with Opal\", startPage=16, endPage=18, eventType='Character Interaction', summary=\"The father reflects on Natalie's demeanor, attempts to reconcile with Opal who feels stood up due to his lateness, tells a fabricated story to entertain her, and faces Opal's and Natalie's disappointment.\", characters=[1, 9, 10], locations=[2])]}"
      ]
     },
     "execution_count": 11,
     "metadata": {},
     "output_type": "execute_result"
    }
   ],
   "source": [
    "events_by_character"
   ]
  },
  {
   "cell_type": "code",
   "execution_count": 12,
   "metadata": {},
   "outputs": [
    {
     "name": "stdout",
     "output_type": "stream",
     "text": [
      "Event: id=1 name='Reflection on Trustworthiness' startPage=7 endPage=7 eventType='Character Development' summary='The protagonist reflects on his perceived trustworthiness by his customers, considering the responsibilities and trust they place in him through various tasks.' characters=[1] locations=[1]\n",
      "Characters: [Character(id=1, name='Protagonist', gender='Male', aliases=['narrator']), Character(id=2, name='Well-off Man', gender='Male', aliases=['gray-haired man']), Character(id=3, name='Woman in Feather Coat', gender='Female', aliases=['schoolmarm sort']), Character(id=4, name='Mrs. Rodney', gender='Female', aliases=['customer']), Character(id=5, name='Daughter', gender='Female', aliases=['little girl']), Character(id=6, name='Lawyer', gender='Male', aliases=['stepfather']), Character(id=7, name='Sophia', gender='Female', aliases=['Sophia Maiden']), Character(id=8, name='Esther Brimm', gender='Female', aliases=['daughter with red hair']), Character(id=9, name='Opal', gender='Female', aliases=['daughter']), Character(id=10, name='Natalie', gender='Female', aliases=['ex-wife'])]\n"
     ]
    }
   ],
   "source": [
    "event_insert = f\"Event: {event_repository.events[0]}\\n\"\n",
    "characters_insert = f\"Characters: {event_repository.allCharactersInBook}\"\n",
    "print(event_insert+characters_insert)\n",
    "# print(characters_insert)"
   ]
  },
  {
   "cell_type": "code",
   "execution_count": 13,
   "metadata": {},
   "outputs": [],
   "source": [
    "def get_character_by_id(character_id: int) -> Optional[Character]:\n",
    "    for character in event_repository.allCharactersInBook:\n",
    "        if character.id == character_id:\n",
    "            return character\n",
    "    return None\n",
    "\n",
    "def get_other_characters(character_id: int) -> List[Character]:\n",
    "    other_characters = []\n",
    "    for character in event_repository.allCharactersInBook:\n",
    "        if character.id != character_id:\n",
    "            other_characters.append(character)\n",
    "    return other_characters"
   ]
  },
  {
   "cell_type": "code",
   "execution_count": 14,
   "metadata": {},
   "outputs": [],
   "source": [
    "# getting character information.\n",
    "# iterative development of character information from each event page.\n",
    "# you are a iterative, character development writer. Given a character and his information, alongside events heh participated in. You are to get craft more information on the character.\n",
    "# for each event, you will be given the part of the book that contribute to it. You are to extract new information from there and rewrite the character biography and return relationships\n",
    "\n",
    "# run similarity search for unassigned characters.\n",
    "\n",
    "class Relationship(BaseModel):\n",
    "    related_to: int = Field(\n",
    "        ...,\n",
    "        description=\"ID of character related to\"\n",
    "    )\n",
    "    relation: str = Field(\n",
    "        ...,\n",
    "        description=\"\"\n",
    "    )\n",
    "\n",
    "class CharacterWithInformation(Character):\n",
    "    id: Optional[int] = Field(\n",
    "        ...,\n",
    "        description=\"Unique identifier for the event, used for deduplication, design a scheme that allows for multiple events\",\n",
    "        default_factory=int\n",
    "    )\n",
    "    name: Optional[str] = Field(\n",
    "        ...,\n",
    "        description=\"For sake of precision and deduplication, should be the actual name of the characters, if not provided, should be 'Not Available'\",\n",
    "        default_factory=str\n",
    "    )\n",
    "    gender: Optional[Literal[\"Male\", \"Female\", \"N/A\"]] = Field(..., default_factory=str)\n",
    "    aliases: Optional[List[str]] = Field(\n",
    "        ...,\n",
    "        description=\"Names, TItles, Promouns usd in refernce to or that describe the character\",\n",
    "        default_factory=list\n",
    "    )\n",
    "    biography: Optional[str] = Field(..., default_factory=str)\n",
    "    characterDevelopment: Optional[str] = Field(..., default_factory=str)\n",
    "    # aliases: Optional[List[str]]  =Field(..., default_factory=list)\n",
    "    # relationships: List[Relationship] = Field(..., default_factory=list)\n",
    "    \n",
    "    # def update_relationships(self, existing_list, new_list):\n",
    "    #     updated_list = existing_list.copy()\n",
    "\n",
    "    #     # Update existing items with new information\n",
    "    #     for new_relationship in new_list:\n",
    "    #         existing_relationship_index = next((i for i, relationship in enumerate(updated_list) if relationship.related_to == new_relationship.related_to), None)\n",
    "\n",
    "    #         if existing_relationship_index is not None:\n",
    "    #             # If the item with the same id already exists, update the information\n",
    "    #             updated_list[existing_relationship_index].relation = (updated_list[existing_relationship_index].relation + f\" {new_relationship.relation}\").rstrip()\n",
    "    #         else:\n",
    "    #             # If the item with the same id does not exist, add the new character\n",
    "    #             updated_list.append(new_relationship)\n",
    "\n",
    "    #     # Deduplicate based on id\n",
    "    #     updated_list = list({relationship.related_to: relationship for relationship in updated_list}.values())\n",
    "\n",
    "    #     return updated_list\n",
    "\n",
    "    def update(self, other: \"CharacterWithInformation\") -> \"CharacterWithInformation\":\n",
    "        return CharacterWithInformation(\n",
    "            name=other.name,\n",
    "            gender=other.gender,\n",
    "            biography=other.biography,\n",
    "            characterDevelopment=other.characterDevelopment,\n",
    "            # aliases=list(set(self.aliases+other.aliases)),\n",
    "            aliases=self.aliases,\n",
    "            # relationships=self.update_relationships(self.relationships, other.relationships)\n",
    "        )\n",
    "\n",
    "        \n",
    "\n",
    "system_message = \"\"\"\"\"\"\n",
    "user_prompt = \"\"\"\"\"\"\n",
    "\n",
    "def get_assigned_character_information(client: openai.OpenAI , character_id: int) -> CharacterWithInformation:\n",
    "    character = get_character_by_id(character_id)\n",
    "    cur_state = CharacterWithInformation(\n",
    "        id=character.id,\n",
    "        name=character.name,\n",
    "        gender=character.gender,\n",
    "        aliases=character.aliases,\n",
    "        # relationships=[]\n",
    "    )\n",
    "    \n",
    "    other_characters = get_other_characters(character_id)\n",
    "\n",
    "    character_events = events_by_character[character_id]\n",
    "    num_iterations = len(character_events)\n",
    "    print(F\"Number of events: {num_iterations}\")\n",
    "\n",
    "    for i, event in enumerate(events_by_character[character_id]):\n",
    "        num_pages = len(list(range(event.startPage, event.endPage+1)))\n",
    "        print(f\"Generating information on {character.name} from : {i+1} of  {num_iterations}\")\n",
    "        event_insert = f\"Event: {event}\\n\"\n",
    "        print(f\"There are {num_pages} page(s) in this event\")\n",
    "\n",
    "        pages = [\"\\n\\n{\\npage: \" + f\"{novel[page-1].metadata[\"page_label\"]}\" + \", \\ncontent: '\" + f\"{novel[page-1].text}\" + \"'\\n}\" for page in range(event.startPage, event.endPage+1)]\n",
    "        pages_insert = \"\"\n",
    "        for page in pages:\n",
    "            pages_insert += page + \"\\n\\n\"\n",
    "\n",
    "        new_updates = client.chat.completions.create(\n",
    "            model=\"gpt-4-turbo-preview\",\n",
    "            temperature=0.7,\n",
    "            response_model=CharacterWithInformation,\n",
    "            messages=[\n",
    "                {\n",
    "                    \"role\": \"system\",\n",
    "                    \"content\": system_message\n",
    "                },\n",
    "                {\n",
    "                    \"role\": \"user\",\n",
    "                    \"content\": (\n",
    "                        f\"\"\"Given this new data, rewrite information on the {character.name}:\n",
    "                        # Event {i}/{num_iterations} {character.name} participated in:\n",
    "                        \"\"\" + event_insert + pages_insert\n",
    "                    )\n",
    "                },\n",
    "                {\n",
    "                    \"role\": \"user\",\n",
    "                    \"content\": f\"\"\"Here is the current information on the {character.name}:\n",
    "                    {cur_state.model_dump_json(indent=2)}\n",
    "                    \n",
    "                    The list of the other characters in the book:\n",
    "                    {other_characters}\"\"\"\n",
    "                },\n",
    "            ]\n",
    "        )\n",
    "        cur_state = cur_state.update(new_updates)\n",
    "        print(f\"\\n{cur_state}\\n\\n\")\n",
    "    return cur_state\n",
    "\n",
    "# for character in assignedCharacters:\n"
   ]
  },
  {
   "cell_type": "code",
   "execution_count": 15,
   "metadata": {},
   "outputs": [
    {
     "data": {
      "text/plain": [
       "[2, 3, 4, 5]"
      ]
     },
     "execution_count": 15,
     "metadata": {},
     "output_type": "execute_result"
    }
   ],
   "source": [
    "[1, 2, 3, 4, 5][-4:]"
   ]
  },
  {
   "cell_type": "code",
   "execution_count": 16,
   "metadata": {},
   "outputs": [],
   "source": [
    "# system_message = \"\"\"# MISSION\n",
    "# You are a iterative fictional character researcher. You will be given the current information on a character along with the list of the other characters in the book, the current event that the character's information is to be extracted from and the book pages associated with that event. You are to use these to extract new information on the character.\n",
    "\n",
    "# # INFORMATION NEEDED ON CHARACTER\n",
    "# The following data is to be generated for the character: id, name, gender, aliases, biography, character development, relationships with other characters.\n",
    "\n",
    "# # RULES\n",
    "# At each iteration, completely rewrite the biography and character development, taking the new data into consideration.\"\"\"\n",
    "# user_prompt = \"\"\"\"\"\"\n",
    "\n",
    "system_message = \"\"\"# LETTER DETAILING MISSION\n",
    "Dear Recursive Fictional Character Researcher,\n",
    "\n",
    "I entrust you with this character, along with the events they have participated in and the corresponding pages chronicling those events. Your mission is to unravel the intricate layers of this character's existence, crafting a detailed biography that captures their development over time in the context of the whole book.\n",
    "\n",
    "Delve into the narrative tapestry, exploring the nuances of each event and extracting the essence of the character's experiences. Your output should reflect the evolution of the character, drawing connections between their past actions and potential future trajectories. Embrace the recursive nature of your task, building upon the information provided in previous turns to weave a coherent and engaging narrative.\n",
    "\n",
    "In each interaction, illuminate the character's journey, offering insights into their motivations, conflicts, and growth. Your output should be a dynamic reflection of the character's evolving identity based on the input you receive.\n",
    "\n",
    "May your recursive exploration unfold a captivating story, revealing the depths of this character's fictional existence.\n",
    "\n",
    "Best regards,\n",
    "Otto\n",
    "\n",
    "# INFORMATION NEEDED ON CHARACTER\n",
    "The following data is to be generated for the character: id, name, gender, aliases, biography, character development, relationships with other characters.\n",
    "\n",
    "# PROCESS\n",
    "First, you need to restate what the user is asking for in your own words. Use this first step to clarify and distill the overall flow.\n",
    "\n",
    "Second, you need to identiify the character in the information provided.\n",
    "\n",
    "Third, write all information from the perspective of the character.\"\"\""
   ]
  },
  {
   "cell_type": "code",
   "execution_count": 17,
   "metadata": {},
   "outputs": [],
   "source": [
    "import instructor\n",
    "\n",
    "client = instructor.patch(openai.OpenAI())"
   ]
  },
  {
   "cell_type": "code",
   "execution_count": 18,
   "metadata": {},
   "outputs": [
    {
     "data": {
      "text/plain": [
       "'Well-off Man'"
      ]
     },
     "execution_count": 18,
     "metadata": {},
     "output_type": "execute_result"
    }
   ],
   "source": [
    "(get_character_by_id(2)).name"
   ]
  },
  {
   "cell_type": "code",
   "execution_count": 20,
   "metadata": {},
   "outputs": [
    {
     "name": "stdout",
     "output_type": "stream",
     "text": [
      "Number of events: 9\n",
      "Generating information on Protagonist from : 1 of  9\n",
      "There are 1 page(s) in this event\n",
      "\n",
      "id=0 name='Protagonist' gender='Male' aliases=['narrator'] biography='The protagonist is a man who provides a variety of services to his customers, such as clearing attics, installing air conditioners, and moving furniture. His customers trust him implicitly, entrusting him with their house keys and valuable possessions without hesitation. This reflects on his perceived trustworthiness and the responsibilities that come with it. Despite this, he harbors doubts about his own trustworthiness, pondering over the trust his customers place in him and the potential for misuse of that trust, which he ultimately decides against. This internal reflection showcases his moral compass and the conflict between perception and self-perception.\\n\\nIn a personal context, the protagonist is seen waiting for a train to Philadelphia, where his daughter lives with her mother and stepfather, a lawyer. This situation indicates a strained or changed family dynamic, suggesting past events that led to his separation from his family. It also highlights the challenges and inconveniences he faces, such as financial burdens and disruptions to his preferred way of living, in maintaining a connection with his daughter.' characterDevelopment='The protagonist’s development is initially highlighted through his reflection on trustworthiness. He critically assesses how others perceive him and contrasts it with his own understanding of himself. This introspection reveals a deep sense of responsibility and moral integrity, as he considers but ultimately rejects the idea of betraying the trust placed in him. Additionally, his situation of traveling to see his daughter amidst personal inconveniences and changes in his family structure reveals his commitment to maintaining relationships despite challenges. This suggests a character who is reflective, morally upright, and dedicated to his familial responsibilities, indicating an evolving sense of self and priorities.'\n",
      "\n",
      "\n",
      "Generating information on Protagonist from : 2 of  9\n",
      "There are 1 page(s) in this event\n",
      "\n",
      "id=0 name='Protagonist' gender='Male' aliases=['narrator'] biography=\"The Protagonist, a man trusted by his customers for various services like clearing attics, installing air conditioners, and moving furniture, contemplates the profound trust placed in him. Despite the potential for betrayal, he holds a strong moral compass, reflecting on the trustworthiness others see in him versus his own self-perception. This internal conflict showcases his integrity and the weight of responsibility he feels. On a personal note, the Protagonist is seen at the Baltimore railroad station, intending to visit his daughter in Philadelphia, indicating a complex family dynamic. His journey, marked by the inconvenience of travel and the financial strain of purchasing a train ticket, underscores his dedication to maintaining a connection with his daughter despite the challenges posed by his family's changed circumstances.\\n\\nThis episode at the railroad station not only adds a layer to his character by illustrating his commitment to family but also provides insight into his daily life and the personal sacrifices he is willing to make. The Protagonist's narrative is a reflection of his moral integrity, the conflict between perception and self-perception, and his unwavering commitment to his familial responsibilities.\" characterDevelopment=\"The Protagonist's development is illuminated through his introspection on trustworthiness and the juxtaposition of how others perceive him against his own self-awareness. This internal dialogue reveals a character of deep moral integrity, who, despite contemplating the potential for betrayal, chooses to uphold the trust placed in him. His commitment to maintaining a connection with his daughter, despite personal inconveniences and the complexities of his family situation, highlights a dedication to familial responsibilities. This suggests a character who is reflective, principled, and devoted, marking an evolving sense of self and priorities.\"\n",
      "\n",
      "\n",
      "Generating information on Protagonist from : 3 of  9\n",
      "There are 1 page(s) in this event\n",
      "\n",
      "id=0 name='Protagonist' gender='Male' aliases=['narrator'] biography=\"The Protagonist, a man trusted by his customers for various services like clearing attics, installing air conditioners, and moving furniture, contemplates the profound trust placed in him. Despite the potential for betrayal, he holds a strong moral compass, reflecting on the trustworthiness others see in him versus his own self-perception. This internal conflict showcases his integrity and the weight of responsibility he feels. On a personal note, the Protagonist is seen at the Baltimore railroad station, intending to visit his daughter in Philadelphia, indicating a complex family dynamic. His journey, marked by the inconvenience of travel and the financial strain of purchasing a train ticket, underscores his dedication to maintaining a connection with his daughter despite the challenges posed by his family's changed circumstances.\\n\\nIn an event titled 'Skeptical Observation', the Protagonist exhibits skepticism towards a well-off man's story and motives at a railway station. His critical thinking and wariness towards strangers reflect a cautious and discerning aspect of his character. The Protagonist's ability to sense the tension in the situation and his silent warning to the woman in the feather coat demonstrate his protective instincts and keen observation skills. This episode not only adds depth to his character by illustrating his commitment to family but also provides insight into his analytical mind and personal values.\" characterDevelopment=\"The Protagonist's development is illuminated through his introspection on trustworthiness and the juxtaposition of how others perceive him against his own self-awareness. This internal dialogue reveals a character of deep moral integrity, who, despite contemplating the potential for betrayal, chooses to uphold the trust placed in him. His commitment to maintaining a connection with his daughter, despite personal inconveniences and the complexities of his family situation, highlights a dedication to familial responsibilities. This suggests a character who is reflective, principled, and devoted, marking an evolving sense of self and priorities.\\n\\nHis skepticism towards the well-off man's narrative at the railroad station further showcases his discernment and protective nature. Through this event, the Protagonist demonstrates a critical and analytical approach to situations that might affect him or those around him, further highlighting his cautious yet caring nature. This addition to his character arc suggests an individual who is not only committed to his values and family but also vigilant and thoughtful in his interactions with others.\"\n",
      "\n",
      "\n",
      "Generating information on Protagonist from : 4 of  9\n",
      "There are 2 page(s) in this event\n",
      "\n",
      "id=0 name='Protagonist' gender='Male' aliases=['narrator'] biography=\"The Protagonist, a man entrusted with various tasks ranging from clearing attics to installing air conditioners, showcases a moral compass that navigates the complexities of trust and responsibility. His contemplation on the trust others place in him versus his own self-perception underscores a deep integrity. His journey to visit his daughter in Philadelphia reveals a dedication to family, despite the hurdles of travel and financial strain. During his travel, he encounters a situation at the Baltimore railroad station, leading to a skeptical observation of a well-off man, demonstrating his discerning and protective nature.\\n\\nIn the event titled 'Narrator's Frustration and Reflection', the Protagonist finds himself unable to sit next to Sophia due to a crowded train, leading him to reflect on his past as a juvenile delinquent with a penchant for personal items and private mail. His plan to inquire about a packet once a seat beside Sophia becomes available further illustrates his curious and somewhat intrusive nature. This reflection on his juvenile delinquency, where he indulged in reading people's private mail and stealing personal items, adds a layer to his character, revealing a history of seeking personal connection through the belongings of others.\" characterDevelopment=\"The Protagonist's development is marked by his introspection on trustworthiness and moral integrity, demonstrating a commitment to upholding the trust placed in him despite contemplating the potential for betrayal. His dedication to family, as seen in his effort to maintain a connection with his daughter, highlights his prioritization of familial responsibilities. The recent reflection on his past as a juvenile delinquent adds depth to his character, showcasing a transformation from an individual who sought personal connections through others' belongings to someone who now contemplates the weight of trust and responsibility. His curiosity and potential intrusiveness, as shown in his interest in Sophia's packet, indicate a lingering aspect of his past behavior, suggesting an ongoing evolution of his character. Through these events, the Protagonist is portrayed as reflective, principled, and in a state of self-discovery, navigating his values and personal growth.\"\n",
      "\n",
      "\n",
      "Generating information on Protagonist from : 5 of  9\n",
      "There are 1 page(s) in this event\n",
      "\n",
      "id=0 name='Protagonist' gender='Male' aliases=['narrator'] biography=\"The Protagonist, a man entrusted with various tasks ranging from clearing attics to installing air conditioners, showcases a moral compass that navigates the complexities of trust and responsibility. His contemplation on the trust others place in him versus his own self-perception underscores a deep integrity. His journey to visit his daughter in Philadelphia reveals a dedication to family, despite the hurdles of travel and financial strain. During his travel, he encounters a situation at the Baltimore railroad station, leading to a skeptical observation of a well-off man, demonstrating his discerning and protective nature.\\n\\nIn the event titled 'Narrator's Frustration and Reflection', the Protagonist finds himself unable to sit next to Sophia due to a crowded train, leading him to reflect on his past as a juvenile delinquent with a penchant for personal items and private mail. His plan to inquire about a packet once a seat beside Sophia becomes available further illustrates his curious and somewhat intrusive nature. This reflection on his juvenile delinquency, where he indulged in reading people's private mail and stealing personal items, adds a layer to his character, revealing a history of seeking personal connection through the belongings of others.\\n\\nDuring the journey from Wilmington to Philadelphia, he observes the industrial landscape, reflecting on the rap music from a fellow passenger's headphones. His meticulous observation of Sophia, from her preparation to disembark too soon to her confident navigation through Philadelphia's 30th Street Station, underscores his attentiveness and possibly lingering curiosity. His physical pursuit of Sophia, despite the crowded environment, highlights an ongoing interest in her, perhaps driven by a combination of curiosity and a desire for connection.\" characterDevelopment=\"The Protagonist's development is marked by his introspection on trustworthiness and moral integrity, demonstrating a commitment to upholding the trust placed in him despite contemplating the potential for betrayal. His dedication to family, as seen in his effort to maintain a connection with his daughter, highlights his prioritization of familial responsibilities. The recent reflection on his past as a juvenile delinquent adds depth to his character, showcasing a transformation from an individual who sought personal connections through others' belongings to someone who now contemplates the weight of trust and responsibility. His curiosity and potential intrusiveness, as shown in his interest in Sophia's packet, indicate a lingering aspect of his past behavior, suggesting an ongoing evolution of his character. Through these events, the Protagonist is portrayed as reflective, principled, and in a state of self-discovery, navigating his values and personal growth. The journey from Wilmington to Philadelphia further exemplifies his keen observation and perhaps a deepened interest in Sophia, adding another layer to his character's ongoing development.\"\n",
      "\n",
      "\n",
      "Generating information on Protagonist from : 6 of  9\n",
      "There are 1 page(s) in this event\n",
      "\n",
      "id=0 name='Protagonist' gender='Male' aliases=['narrator'] biography=\"The Protagonist, a man entrusted with various tasks ranging from clearing attics to installing air conditioners, showcases a moral compass that navigates the complexities of trust and responsibility. His contemplation on the trust others place in him versus his own self-perception underscores a deep integrity. His journey to visit his daughter in Philadelphia reveals a dedication to family, despite the hurdles of travel and financial strain. During his travel, he encounters a situation at the Baltimore railroad station, leading to a skeptical observation of a well-off man, demonstrating his discerning and protective nature.\\n\\nIn the event titled 'Narrator's Frustration and Reflection', the Protagonist finds himself unable to sit next to Sophia due to a crowded train, leading him to reflect on his past as a juvenile delinquent with a penchant for personal items and private mail. His plan to inquire about a packet once a seat beside Sophia becomes available further illustrates his curious and somewhat intrusive nature. This reflection on his juvenile delinquency, where he indulged in reading people's private mail and stealing personal items, adds a layer to his character, revealing a history of seeking personal connection through the belongings of others.\\n\\nDuring the journey from Wilmington to Philadelphia, he observes the industrial landscape, reflecting on the rap music from a fellow passenger's headphones. His meticulous observation of Sophia, from her preparation to disembark too soon to her confident navigation through Philadelphia's 30th Street Station, underscores his attentiveness and possibly lingering curiosity. His physical pursuit of Sophia, despite the crowded environment, highlights an ongoing interest in her, perhaps driven by a combination of curiosity and a desire for connection.\" characterDevelopment=\"The Protagonist's development is marked by his introspection on trustworthiness and moral integrity, demonstrating a commitment to upholding the trust placed in him despite contemplating the potential for betrayal. His dedication to family, as seen in his effort to maintain a connection with his daughter, highlights his prioritization of familial responsibilities. The recent reflection on his past as a juvenile delinquent adds depth to his character, showcasing a transformation from an individual who sought personal connections through others' belongings to someone who now contemplates the weight of trust and responsibility. His curiosity and potential intrusiveness, as shown in his interest in Sophia's packet, indicate a lingering aspect of his past behavior, suggesting an ongoing evolution of his character. Through these events, the Protagonist is portrayed as reflective, principled, and in a state of self-discovery, navigating his values and personal growth. The journey from Wilmington to Philadelphia further exemplifies his keen observation and perhaps a deepened interest in Sophia, adding another layer to his character's ongoing development.\"\n",
      "\n",
      "\n",
      "Generating information on Protagonist from : 7 of  9\n",
      "There are 2 page(s) in this event\n",
      "\n",
      "id=0 name='Protagonist' gender='Male' aliases=['narrator'] biography=\"The Protagonist, a man entrusted with various tasks ranging from clearing attics to installing air conditioners, showcases a moral compass that navigates the complexities of trust and responsibility. His contemplation on the trust others place in him versus his own self-perception underscores a deep integrity. His journey to visit his daughter in Philadelphia reveals a dedication to family, despite the hurdles of travel and financial strain. During his travel, he encounters a situation at the Baltimore railroad station, leading to a skeptical observation of a well-off man, demonstrating his discerning and protective nature.\\n\\nIn the event titled 'Narrator's Frustration and Reflection', the Protagonist finds himself unable to sit next to Sophia due to a crowded train, leading him to reflect on his past as a juvenile delinquent with a penchant for personal items and private mail. His plan to inquire about a packet once a seat beside Sophia becomes available further illustrates his curious and somewhat intrusive nature. This reflection on his juvenile delinquency, where he indulged in reading people's private mail and stealing personal items, adds a layer to his character, revealing a history of seeking personal connection through the belongings of others.\\n\\nDuring the journey from Wilmington to Philadelphia, he observes the industrial landscape, reflecting on the rap music from a fellow passenger's headphones. His meticulous observation of Sophia, from her preparation to disembark too soon to her confident navigation through Philadelphia's 30th Street Station, underscores his attentiveness and possibly lingering curiosity. His physical pursuit of Sophia, despite the crowded environment, highlights an ongoing interest in her, perhaps driven by a combination of curiosity and a desire for connection.\\n\\nThe protagonist's interest shifts from Sophia to Esther Brimm, intrigued by Esther's appearance and actions. This shift occurs when he notices Esther's unique physical characteristics and listens in on her conversation, demonstrating his continued curiosity and interest in understanding the people around him.\" characterDevelopment=\"The Protagonist's development is marked by his introspection on trustworthiness and moral integrity, demonstrating a commitment to upholding the trust placed in him despite contemplating the potential for betrayal. His dedication to family, as seen in his effort to maintain a connection with his daughter, highlights his prioritization of familial responsibilities. The recent reflection on his past as a juvenile delinquent adds depth to his character, showcasing a transformation from an individual who sought personal connections through others' belongings to someone who now contemplates the weight of trust and responsibility. His curiosity and potential intrusiveness, as shown in his interest in Sophia's packet, indicate a lingering aspect of his past behavior, suggesting an ongoing evolution of his character. Through these events, the Protagonist is portrayed as reflective, principled, and in a state of self-discovery, navigating his values and personal growth. The journey from Wilmington to Philadelphia further exemplifies his keen observation and perhaps a deepened interest in Sophia, adding another layer to his character's ongoing development. The recent event where his focus shifts to Esther Brimm adds a new layer to his evolving narrative, showcasing his adaptability and ongoing curiosity about the world and people around him.\"\n",
      "\n",
      "\n",
      "Generating information on Protagonist from : 8 of  9\n",
      "There are 1 page(s) in this event\n",
      "\n",
      "id=0 name='Protagonist' gender='Male' aliases=['narrator'] biography=\"The Protagonist, a man entrusted with various tasks ranging from clearing attics to installing air conditioners, showcases a moral compass that navigates the complexities of trust and responsibility. His contemplation on the trust others place in him versus his own self-perception underscores a deep integrity. His journey to visit his daughter in Philadelphia reveals a dedication to family, despite the hurdles of travel and financial strain. During his travel, he encounters a situation at the Baltimore railroad station, leading to a skeptical observation of a well-off man, demonstrating his discerning and protective nature.\\n\\nIn the event titled 'Narrator's Frustration and Reflection', the Protagonist finds himself unable to sit next to Sophia due to a crowded train, leading him to reflect on his past as a juvenile delinquent with a penchant for personal items and private mail. His plan to inquire about a packet once a seat beside Sophia becomes available further illustrates his curious and somewhat intrusive nature. This reflection on his juvenile delinquency, where he indulged in reading people's private mail and stealing personal items, adds a layer to his character, revealing a history of seeking personal connection through the belongings of others.\\n\\nDuring the journey from Wilmington to Philadelphia, he observes the industrial landscape, reflecting on the rap music from a fellow passenger's headphones. His meticulous observation of Sophia, from her preparation to disembark too soon to her confident navigation through Philadelphia's 30th Street Station, underscores his attentiveness and possibly lingering curiosity. His physical pursuit of Sophia, despite the crowded environment, highlights an ongoing interest in her, perhaps driven by a combination of curiosity and a desire for connection.\\n\\nThe protagonist's interest shifts from Sophia to Esther Brimm, intrigued by Esther's appearance and actions. This shift occurs when he notices Esther's unique physical characteristics and listens in on her conversation, demonstrating his continued curiosity and interest in understanding the people around him.\\n\\nThe protagonist reflects on his late arrival for a visit with his daughter, Opal, and his strained relationship with his ex-wife, Natalie. His tardiness and the resulting strained interaction with Natalie add to his personal conflicts, highlighting the challenges in maintaining familial relationships amidst personal struggles.\" characterDevelopment=\"The Protagonist's development is marked by his introspection on trustworthiness and moral integrity, demonstrating a commitment to upholding the trust placed in him despite contemplating the potential for betrayal. His dedication to family, as seen in his effort to maintain a connection with his daughter, highlights his prioritization of familial responsibilities. The recent reflection on his past as a juvenile delinquent adds depth to his character, showcasing a transformation from an individual who sought personal connections through others' belongings to someone who now contemplates the weight of trust and responsibility. His curiosity and potential intrusiveness, as shown in his interest in Sophia's packet, indicate a lingering aspect of his past behavior, suggesting an ongoing evolution of his character. Through these events, the Protagonist is portrayed as reflective, principled, and in a state of self-discovery, navigating his values and personal growth. The journey from Wilmington to Philadelphia further exemplifies his keen observation and perhaps a deepened interest in Sophia, adding another layer to his character's ongoing development. The recent event where his focus shifts to Esther Brimm adds a new layer to his evolving narrative, showcasing his adaptability and ongoing curiosity about the world and people around him.\\n\\nThe latest event, 'Reflecting on Personal Life', adds another dimension to his character development. The Protagonist's late arrival to visit his daughter and the ensuing tension with his ex-wife, Natalie, expose his vulnerabilities and the complexities of balancing personal shortcomings with the desire to maintain meaningful family connections. This incident underscores the Protagonist's ongoing struggle with time management, personal responsibility, and the impacts of his actions on his relationships, particularly with his daughter, Opal, and his ex-wife, Natalie. This reflection adds to the narrative of his character's evolution, demonstrating the personal challenges he faces in his quest for growth and understanding.\"\n",
      "\n",
      "\n",
      "Generating information on Protagonist from : 9 of  9\n",
      "There are 3 page(s) in this event\n",
      "\n",
      "id=0 name='Protagonist' gender='Male' aliases=['narrator'] biography=\"The protagonist, a man with a complex past and present, faces personal challenges and moral dilemmas while navigating relationships and responsibilities. His journey is marked by an ongoing effort to reconcile with his daughter, Opal, and navigate the complexities of his relationship with his ex-wife, Natalie. This is exemplified during his late visit to see Opal, where his tardiness and the fabricated story to explain his delay lead to disappointment and tension, particularly with Opal and Natalie. His introspection and actions reveal a deep sense of responsibility and a desire for connection, despite his shortcomings and the obstacles he faces. The protagonist's history of juvenile delinquency, curiosity about others, and struggles with personal connection and responsibility are central to his character.\" characterDevelopment=\"The protagonist's development is highlighted by his introspective nature and evolving understanding of trust, responsibility, and family connections. His attempt to reconcile with his daughter and the strained interaction with his ex-wife underscore the challenges he faces in maintaining familial relationships amidst personal struggles. The fabricated story to explain his delay, while intended to entertain Opal, reflects his difficulty in managing time and responsibilities effectively. This event, along with his past actions, contributes to the narrative of his ongoing evolution from a past of seeking personal connection through others' belongings to someone contemplating the weight of trust and responsibility. His journey illustrates a commitment to family and a desire for redemption and connection, despite the complexities of his life and relationships.\"\n",
      "\n",
      "\n"
     ]
    }
   ],
   "source": [
    "holden = get_assigned_character_information(client, 1)"
   ]
  },
  {
   "cell_type": "code",
   "execution_count": null,
   "metadata": {},
   "outputs": [],
   "source": []
  }
 ],
 "metadata": {
  "kernelspec": {
   "display_name": "book_trail",
   "language": "python",
   "name": "python3"
  },
  "language_info": {
   "codemirror_mode": {
    "name": "ipython",
    "version": 3
   },
   "file_extension": ".py",
   "mimetype": "text/x-python",
   "name": "python",
   "nbconvert_exporter": "python",
   "pygments_lexer": "ipython3",
   "version": "3.12.1"
  }
 },
 "nbformat": 4,
 "nbformat_minor": 2
}
